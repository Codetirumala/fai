{
 "cells": [
  {
   "cell_type": "code",
   "execution_count": 2,
   "id": "473e0ceb-bfd6-4ed6-89fe-c27a864e60c7",
   "metadata": {},
   "outputs": [
    {
     "name": "stdout",
     "output_type": "stream",
     "text": [
      "rank= 2\n",
      "determinant: 0.0\n",
      "trace: 15\n"
     ]
    }
   ],
   "source": [
    "#experiment 2(a)\n",
    "import numpy as np\n",
    "matrix1=np.array([[1,2,3],[4,5,6],[7,8,9]])\n",
    "#rank\n",
    "rankk=np.linalg.matrix_rank(matrix1)\n",
    "print(\"rank=\",rankk)\n",
    "#determinant\n",
    "determinant=np.linalg.det(matrix1)\n",
    "print(\"determinant:\",determinant)\n",
    "#trace\n",
    "tracee=np.trace(matrix1)\n",
    "print(\"trace:\",tracee)"
   ]
  },
  {
   "cell_type": "code",
   "execution_count": 4,
   "id": "6f8f92f8-42ff-45d2-b8d8-e4d56c39a87e",
   "metadata": {},
   "outputs": [
    {
     "name": "stdout",
     "output_type": "stream",
     "text": [
      "eigen values: [-0.37228132  5.37228132]\n",
      "eigen vectors: [[-0.82456484 -0.41597356]\n",
      " [ 0.56576746 -0.90937671]]\n"
     ]
    }
   ],
   "source": [
    "#expeiment 2(c)\n",
    "import numpy as np\n",
    "mat=np.array([[1,2],[3,4]])\n",
    "v,w=np.linalg.eig(mat)\n",
    "print(\"eigen values:\",v)\n",
    "print(\"eigen vectors:\",w)"
   ]
  },
  {
   "cell_type": "code",
   "execution_count": 5,
   "id": "31e2556f-1a3f-4bd7-a620-cc3fdc676ba7",
   "metadata": {},
   "outputs": [
    {
     "name": "stdout",
     "output_type": "stream",
     "text": [
      "vector a:\n",
      " [1 2]\n",
      "vector b:\n",
      " [3 4]\n",
      "inner product:\n",
      " 11\n",
      "outer product:\n",
      " [[3 4]\n",
      " [6 8]]\n",
      "cross product:\n",
      " -2\n"
     ]
    }
   ],
   "source": [
    "import numpy as np\n",
    "a=np.array([1,2])\n",
    "b=np.array([3,4])\n",
    "#printing\n",
    "print(\"vector a:\\n\",a)\n",
    "print(\"vector b:\\n\",b)\n",
    "#inner product\n",
    "print(\"inner product:\\n\",np.inner(a,b))\n",
    "#outer product\n",
    "print(\"outer product:\\n\",np.outer(a,b))\n",
    "#cross product\n",
    "print(\"cross product:\\n\",np.cross(a,b))"
   ]
  },
  {
   "cell_type": "code",
   "execution_count": 1,
   "id": "ca43a0af-9e3e-48bc-b6a4-3d702e2680dd",
   "metadata": {},
   "outputs": [
    {
     "data": {
      "text/plain": [
       "-1"
      ]
     },
     "execution_count": 1,
     "metadata": {},
     "output_type": "execute_result"
    }
   ],
   "source": [
    "#experiment 3(a)\n",
    "import cv2\n",
    "import numpy as np\n",
    "img=np.ones((350,700,3),dtype=np.uint8)*255\n",
    "cv2.imshow('white image',img)\n",
    "cv2.waitKey(0)"
   ]
  },
  {
   "cell_type": "code",
   "execution_count": 4,
   "id": "73e62b0b-8396-47ec-a9a1-49c7936d41cb",
   "metadata": {},
   "outputs": [
    {
     "name": "stdout",
     "output_type": "stream",
     "text": [
      "(162, 311, 3)\n"
     ]
    }
   ],
   "source": [
    "#experiment 3(b-1)\n",
    "import cv2\n",
    "import numpy as np\n",
    "img=cv2.imread('C:/Users/HP/Pictures/gittt.jpg')\n",
    "img_array=np.array(img)\n",
    "print(img_array.shape)\n"
   ]
  },
  {
   "cell_type": "code",
   "execution_count": 9,
   "id": "8df5d140-d922-489f-a932-39ffa904a448",
   "metadata": {},
   "outputs": [
    {
     "data": {
      "text/plain": [
       "True"
      ]
     },
     "execution_count": 9,
     "metadata": {},
     "output_type": "execute_result"
    }
   ],
   "source": [
    "#experiment 3(b-2)\n",
    "import numpy as np\n",
    "import cv2\n",
    "array1=np.zeros((100,100,3),dtype=np.uint8)\n",
    "cv2.imwrite('C:/Users/HP/Pictures/gittt.jpg',array1)"
   ]
  },
  {
   "cell_type": "code",
   "execution_count": 25,
   "id": "d1cf421f-d30f-475f-b6e3-5b7cc5c4fb57",
   "metadata": {},
   "outputs": [
    {
     "name": "stdout",
     "output_type": "stream",
     "text": [
      "after sorting: [0 1 2 2 3 5]\n",
      "after sorting: [[2 5]\n",
      " [1 3]]\n",
      "searching element: [5 3]\n",
      "5\n",
      "2\n"
     ]
    }
   ],
   "source": [
    "#experiment 3(c)\n",
    "import numpy as np\n",
    "#sorting all elements\n",
    "array1=np.array([1,5,2,0,3,2])\n",
    "print(\"after sorting:\",np.sort(array1))\n",
    "#sorting secific elements\n",
    "array2=np.array([[2,5],\n",
    "                 [3,1]])\n",
    "print(\"after sorting:\",np.sort(array2,axis=-1))\n",
    "#searching\n",
    "array3=np.array(array1)\n",
    "result=array1[array1>2]\n",
    "print(\"searching element:\",result)\n",
    "#couting non zeroes\n",
    "p=np.count_nonzero(array1)\n",
    "print(p)\n",
    "#countig specfic values\n",
    "q=np.count_nonzero(array1==2)\n",
    "print(q)"
   ]
  },
  {
   "cell_type": "code",
   "execution_count": 27,
   "id": "2ba350ad-48ad-49b3-9534-99b3d4309f5b",
   "metadata": {},
   "outputs": [
    {
     "name": "stdout",
     "output_type": "stream",
     "text": [
      "[[ 1  2  3]\n",
      " [ 4  5  6]\n",
      " [ 7  8  9]\n",
      " [10 11 12]]\n",
      "[[[ 1  2  3]\n",
      "  [ 4  5  6]]\n",
      "\n",
      " [[ 7  8  9]\n",
      "  [10 11 12]]]\n",
      "[ 1  2  3  4  5  6  7  8  9 10 11 12]\n"
     ]
    }
   ],
   "source": [
    "experiment 3(d)\n",
    "import numpy as np\n",
    "arr=np.array([1,2,3,4,5,6,7,8,9,10,11,12])\n",
    "#4 rows ,3 coloumns\n",
    "new_arr1=arr.reshape(4,3)\n",
    "print(new_arr1)\n",
    "#2x2x3 tensor\n",
    "new_arr2=arr.reshape(2,2,-1)\n",
    "print(new_arr2)\n",
    "#1 dimension array\n",
    "new_arr3=arr.reshape(-1)\n",
    "print(new_arr3)"
   ]
  },
  {
   "cell_type": "code",
   "execution_count": 30,
   "id": "15f7ed1f-bcb2-47bb-b479-f6c74762d8bf",
   "metadata": {},
   "outputs": [
    {
     "name": "stdout",
     "output_type": "stream",
     "text": [
      "bfs:\n",
      "5 6 2 3 1 8 "
     ]
    }
   ],
   "source": [
    "#bfs\n",
    "graph={\n",
    "    '5':['6','2'],\n",
    "    '6':['3','1'],\n",
    "    '2':['8'],\n",
    "    '3':[],\n",
    "    '1':['8'],\n",
    "    '8':[]\n",
    "}\n",
    "visited=[]\n",
    "queue=[]\n",
    "def bfs(visited,graph,node):\n",
    "    visited.append(node)\n",
    "    queue.append(node)\n",
    "\n",
    "    while queue:\n",
    "        m=queue.pop(0)\n",
    "        print(m,end=\" \")\n",
    "\n",
    "        for neighbour in graph[m]:\n",
    "            if neighbour not in visited:\n",
    "                visited.append(neighbour)\n",
    "                queue.append(neighbour)\n",
    "print(\"bfs:\")\n",
    "bfs(visited,graph,'5')"
   ]
  },
  {
   "cell_type": "code",
   "execution_count": 9,
   "id": "adb937ca-9f2f-41e7-abe6-f8dfe4945188",
   "metadata": {},
   "outputs": [
    {
     "name": "stdout",
     "output_type": "stream",
     "text": [
      "5\n",
      "6\n",
      "3\n",
      "1\n",
      "8\n",
      "2\n"
     ]
    }
   ],
   "source": [
    "#dfs\n",
    "graph={\n",
    "    '5':['6','2'],\n",
    "    '6':['3','1'],\n",
    "    '2':['8'],\n",
    "    '3':[],\n",
    "    '1':['8'],\n",
    "    '8':[]\n",
    "}\n",
    "start_node='5'\n",
    "def dfs(graph,start,visited=None):\n",
    "    if visited is None:\n",
    "        visited=set()\n",
    "    visited.add(start)\n",
    "    print(start)\n",
    "    for neighbour in graph[start]:\n",
    "        if neighbour not in visited:\n",
    "            dfs(graph,neighbour,visited)\n",
    "dfs(graph,start_node)"
   ]
  },
  {
   "cell_type": "code",
   "execution_count": 16,
   "id": "27e92a29-fa49-461e-9cba-40e2140c629c",
   "metadata": {},
   "outputs": [
    {
     "name": "stdout",
     "output_type": "stream",
     "text": [
      "steps:\n",
      "0 0\n",
      "4 0\n",
      "4 3\n",
      "0 3\n",
      "3 0\n",
      "3 3\n",
      "4 2\n",
      "0 2\n"
     ]
    },
    {
     "data": {
      "text/plain": [
       "True"
      ]
     },
     "execution_count": 16,
     "metadata": {},
     "output_type": "execute_result"
    }
   ],
   "source": [
    "from collections import defaultdict\n",
    "\n",
    "jug1, jug2, aim = 4, 3, 2\n",
    "visited = defaultdict(lambda: False)\n",
    "\n",
    "def wjs(amt1, amt2):\n",
    "    if (amt1 == 0 and amt2 == aim) or (amt1 == aim and amt2 == 0):\n",
    "        print(amt1, amt2)\n",
    "        return True\n",
    "    if not visited[(amt1, amt2)]:\n",
    "        print(amt1, amt2)\n",
    "        visited[(amt1, amt2)] = True  # Corrected line\n",
    "        \n",
    "        return (wjs(0, amt2) or\n",
    "                wjs(amt1, 0) or\n",
    "                wjs(jug1, amt2) or\n",
    "                wjs(amt1, jug2) or\n",
    "                wjs(amt1 + min(amt2, (jug1 - amt1)),\n",
    "                    amt2 - min(amt2, (jug1 - amt1))) or\n",
    "                wjs(amt1 - min(amt1, (jug2 - amt2)),\n",
    "                    amt2 + min(amt1, (jug2 - amt2))))\n",
    "    else:\n",
    "        return False\n",
    "\n",
    "print(\"steps:\")\n",
    "wjs(0, 0)\n",
    "    \n",
    "        "
   ]
  },
  {
   "cell_type": "code",
   "execution_count": null,
   "id": "d100017c-98d4-4490-af9c-d720ab6c790d",
   "metadata": {},
   "outputs": [],
   "source": []
  }
 ],
 "metadata": {
  "kernelspec": {
   "display_name": "Python 3 (ipykernel)",
   "language": "python",
   "name": "python3"
  },
  "language_info": {
   "codemirror_mode": {
    "name": "ipython",
    "version": 3
   },
   "file_extension": ".py",
   "mimetype": "text/x-python",
   "name": "python",
   "nbconvert_exporter": "python",
   "pygments_lexer": "ipython3",
   "version": "3.12.2"
  }
 },
 "nbformat": 4,
 "nbformat_minor": 5
}

